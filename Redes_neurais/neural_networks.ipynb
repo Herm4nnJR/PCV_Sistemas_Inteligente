{
 "cells": [
  {
   "cell_type": "code",
   "execution_count": 1,
   "id": "8ea68d19-5e86-4402-ba4b-c2b11b88dc60",
   "metadata": {
    "tags": []
   },
   "outputs": [
    {
     "data": {
      "text/html": [
       "<div>\n",
       "<style scoped>\n",
       "    .dataframe tbody tr th:only-of-type {\n",
       "        vertical-align: middle;\n",
       "    }\n",
       "\n",
       "    .dataframe tbody tr th {\n",
       "        vertical-align: top;\n",
       "    }\n",
       "\n",
       "    .dataframe thead th {\n",
       "        text-align: right;\n",
       "    }\n",
       "</style>\n",
       "<table border=\"1\" class=\"dataframe\">\n",
       "  <thead>\n",
       "    <tr style=\"text-align: right;\">\n",
       "      <th></th>\n",
       "      <th>linha</th>\n",
       "      <th>qPA</th>\n",
       "      <th>pulso</th>\n",
       "      <th>resp</th>\n",
       "      <th>gravid</th>\n",
       "      <th>classe</th>\n",
       "    </tr>\n",
       "  </thead>\n",
       "  <tbody>\n",
       "    <tr>\n",
       "      <th>0</th>\n",
       "      <td>1</td>\n",
       "      <td>8.416754</td>\n",
       "      <td>75.921057</td>\n",
       "      <td>21.635259</td>\n",
       "      <td>40.000000</td>\n",
       "      <td>2</td>\n",
       "    </tr>\n",
       "    <tr>\n",
       "      <th>1</th>\n",
       "      <td>2</td>\n",
       "      <td>8.725890</td>\n",
       "      <td>63.813564</td>\n",
       "      <td>19.718734</td>\n",
       "      <td>41.530427</td>\n",
       "      <td>2</td>\n",
       "    </tr>\n",
       "    <tr>\n",
       "      <th>2</th>\n",
       "      <td>3</td>\n",
       "      <td>0.000000</td>\n",
       "      <td>197.210213</td>\n",
       "      <td>19.045471</td>\n",
       "      <td>52.730745</td>\n",
       "      <td>3</td>\n",
       "    </tr>\n",
       "    <tr>\n",
       "      <th>3</th>\n",
       "      <td>4</td>\n",
       "      <td>8.733333</td>\n",
       "      <td>143.636181</td>\n",
       "      <td>17.621141</td>\n",
       "      <td>34.679911</td>\n",
       "      <td>2</td>\n",
       "    </tr>\n",
       "    <tr>\n",
       "      <th>4</th>\n",
       "      <td>5</td>\n",
       "      <td>1.747626</td>\n",
       "      <td>82.636672</td>\n",
       "      <td>12.209535</td>\n",
       "      <td>69.375882</td>\n",
       "      <td>3</td>\n",
       "    </tr>\n",
       "    <tr>\n",
       "      <th>...</th>\n",
       "      <td>...</td>\n",
       "      <td>...</td>\n",
       "      <td>...</td>\n",
       "      <td>...</td>\n",
       "      <td>...</td>\n",
       "      <td>...</td>\n",
       "    </tr>\n",
       "    <tr>\n",
       "      <th>1495</th>\n",
       "      <td>1496</td>\n",
       "      <td>4.774128</td>\n",
       "      <td>6.701052</td>\n",
       "      <td>7.380529</td>\n",
       "      <td>24.494467</td>\n",
       "      <td>1</td>\n",
       "    </tr>\n",
       "    <tr>\n",
       "      <th>1496</th>\n",
       "      <td>1497</td>\n",
       "      <td>8.400144</td>\n",
       "      <td>81.203081</td>\n",
       "      <td>13.630509</td>\n",
       "      <td>65.385011</td>\n",
       "      <td>3</td>\n",
       "    </tr>\n",
       "    <tr>\n",
       "      <th>1497</th>\n",
       "      <td>1498</td>\n",
       "      <td>4.768427</td>\n",
       "      <td>143.261527</td>\n",
       "      <td>21.843486</td>\n",
       "      <td>24.530704</td>\n",
       "      <td>1</td>\n",
       "    </tr>\n",
       "    <tr>\n",
       "      <th>1498</th>\n",
       "      <td>1499</td>\n",
       "      <td>1.707746</td>\n",
       "      <td>184.267283</td>\n",
       "      <td>14.256125</td>\n",
       "      <td>61.062546</td>\n",
       "      <td>3</td>\n",
       "    </tr>\n",
       "    <tr>\n",
       "      <th>1499</th>\n",
       "      <td>1500</td>\n",
       "      <td>4.745181</td>\n",
       "      <td>196.803149</td>\n",
       "      <td>11.875068</td>\n",
       "      <td>39.110506</td>\n",
       "      <td>2</td>\n",
       "    </tr>\n",
       "  </tbody>\n",
       "</table>\n",
       "<p>1500 rows × 6 columns</p>\n",
       "</div>"
      ],
      "text/plain": [
       "      linha       qPA       pulso       resp     gravid  classe\n",
       "0         1  8.416754   75.921057  21.635259  40.000000       2\n",
       "1         2  8.725890   63.813564  19.718734  41.530427       2\n",
       "2         3  0.000000  197.210213  19.045471  52.730745       3\n",
       "3         4  8.733333  143.636181  17.621141  34.679911       2\n",
       "4         5  1.747626   82.636672  12.209535  69.375882       3\n",
       "...     ...       ...         ...        ...        ...     ...\n",
       "1495   1496  4.774128    6.701052   7.380529  24.494467       1\n",
       "1496   1497  8.400144   81.203081  13.630509  65.385011       3\n",
       "1497   1498  4.768427  143.261527  21.843486  24.530704       1\n",
       "1498   1499  1.707746  184.267283  14.256125  61.062546       3\n",
       "1499   1500  4.745181  196.803149  11.875068  39.110506       2\n",
       "\n",
       "[1500 rows x 6 columns]"
      ]
     },
     "execution_count": 1,
     "metadata": {},
     "output_type": "execute_result"
    }
   ],
   "source": [
    "import file_reader\n",
    "import matplotlib.pyplot as plt\n",
    "\n",
    "import numpy as np\n",
    "import pandas as pd\n",
    "from matplotlib import pyplot as plt\n",
    "from sklearn.metrics import (ConfusionMatrixDisplay,\n",
    "                             accuracy_score,\n",
    "                             f1_score,\n",
    "                             classification_report,\n",
    "                             confusion_matrix,\n",
    "                             explained_variance_score,\n",
    "                             max_error,\n",
    "                             mean_absolute_error,\n",
    "                             mean_squared_error,\n",
    "                             r2_score)\n",
    "from sklearn.model_selection import train_test_split\n",
    "from sklearn.neural_network import (MLPClassifier,\n",
    "                                    MLPRegressor)\n",
    "\n",
    "TEST_SIZE = 0.3\n",
    "RANDOM_STATE = 5\n",
    "ITERATIONS = 5000\n",
    "LAYERS = (512, 256, 128, 64, 32, 16, 8, 4, 2)\n",
    "\n",
    "data = file_reader.read_csv_file('./data/treino_sinais_vitais_com_label.txt')\n",
    "data"
   ]
  },
  {
   "cell_type": "markdown",
   "id": "78f33ec9-0859-4c49-b552-54fe13a838c2",
   "metadata": {},
   "source": [
    "## Classificação"
   ]
  },
  {
   "cell_type": "code",
   "execution_count": 2,
   "id": "5cbee79e-cc0d-436e-a433-0c744162561e",
   "metadata": {},
   "outputs": [],
   "source": [
    "#Divisao de testes e treino\n",
    "x_class = data[['qPA', 'pulso', 'resp']]\n",
    "y_class = data['classe']\n",
    "        \n",
    "xc_train, xc_test, yc_train, yc_test = train_test_split(\n",
    "    x_class, y_class, test_size=TEST_SIZE, random_state=RANDOM_STATE)"
   ]
  },
  {
   "cell_type": "code",
   "execution_count": 3,
   "id": "176a1a55-0040-4ed8-9a6d-8369fdbd7ae1",
   "metadata": {
    "tags": []
   },
   "outputs": [
    {
     "name": "stdout",
     "output_type": "stream",
     "text": [
      "Acurácia: 0.7555555555555555\n",
      "F1-score:  0.5478915986234714\n"
     ]
    }
   ],
   "source": [
    "modelo = MLPClassifier(hidden_layer_sizes=LAYERS, activation='relu', max_iter=ITERATIONS)\n",
    "modelo.fit(xc_train, yc_train)\n",
    "\n",
    "y_class_pred = modelo.predict(xc_test)\n",
    "accuracy = accuracy_score(yc_test, y_class_pred)\n",
    "\n",
    "print('Acurácia:', accuracy)\n",
    "print('F1-score: ', f1_score(yc_test, y_class_pred, average='macro'))"
   ]
  },
  {
   "cell_type": "code",
   "execution_count": 4,
   "id": "99f8c208-a579-4de1-8f41-cdf35fc99f6a",
   "metadata": {},
   "outputs": [],
   "source": [
    "# Prediction\n",
    "data['pred classif'] = modelo.predict(x_class)"
   ]
  },
  {
   "cell_type": "code",
   "execution_count": 5,
   "id": "22108451-7d3c-484c-9c0f-a2a7bc18434f",
   "metadata": {
    "tags": []
   },
   "outputs": [
    {
     "data": {
      "image/png": "[encoded data removed]",
      "text/plain": [
       "<Figure size 640x480 with 2 Axes>"
      ]
     },
     "metadata": {},
     "output_type": "display_data"
    }
   ],
   "source": [
    "cm = confusion_matrix(data['classe'], data['pred classif'])\n",
    "\n",
    "cmd = ConfusionMatrixDisplay(\n",
    "    cm, display_labels=['Crítico', 'Instável', 'p. Estável', 'Estável'])\n",
    "cmd.plot()\n",
    "plt.show()"
   ]
  },
  {
   "cell_type": "markdown",
   "id": "c0e7aae4-d515-412d-9775-2c4a9185f1be",
   "metadata": {},
   "source": [
    "## Regression"
   ]
  },
  {
   "cell_type": "code",
   "execution_count": 6,
   "id": "1cba850e-cc3e-448a-9b5f-9e2ce671e95b",
   "metadata": {},
   "outputs": [],
   "source": [
    "#Divisao de testes e treino\n",
    "x_reg = data[['qPA', 'pulso', 'resp']]\n",
    "y_reg = data['gravid']\n",
    "        \n",
    "xr_train, xr_test, yr_train, yr_test = train_test_split(\n",
    "    x_reg, y_reg, test_size=TEST_SIZE, random_state=RANDOM_STATE)"
   ]
  },
  {
   "cell_type": "code",
   "execution_count": 7,
   "id": "6f165134-14b2-4789-9440-7461302b2d5c",
   "metadata": {
    "tags": []
   },
   "outputs": [
    {
     "name": "stdout",
     "output_type": "stream",
     "text": [
      "R2:  0.7021562758409919\n",
      "MSE:  81.54810715264544\n"
     ]
    }
   ],
   "source": [
    "modelo_r = MLPRegressor(hidden_layer_sizes=LAYERS, activation='relu', max_iter=ITERATIONS)\n",
    "modelo_r.fit(xr_train, yr_train)\n",
    "\n",
    "yr_pred = modelo_r.predict(xr_test)\n",
    "\n",
    "print('R2: ', r2_score(yr_test, yr_pred))\n",
    "print('MSE: ', mean_squared_error(yr_test, yr_pred))"
   ]
  },
  {
   "cell_type": "code",
   "execution_count": 8,
   "id": "bf7f89e3-711a-4e30-b759-2359d15bdb8d",
   "metadata": {
    "tags": []
   },
   "outputs": [],
   "source": [
    "data['pred_reg'] = modelo.predict(x_reg)"
   ]
  }
 ],
 "metadata": {
  "kernelspec": {
   "display_name": "Python 3 (ipykernel)",
   "language": "python",
   "name": "python3"
  },
  "language_info": {
   "codemirror_mode": {
    "name": "ipython",
    "version": 3
   },
   "file_extension": ".py",
   "mimetype": "text/x-python",
   "name": "python",
   "nbconvert_exporter": "python",
   "pygments_lexer": "ipython3",
   "version": "3.10.10"
  }
 },
 "nbformat": 4,
 "nbformat_minor": 5
}
